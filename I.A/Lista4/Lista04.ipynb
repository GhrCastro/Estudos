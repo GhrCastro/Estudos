{
  "cells": [
    {
      "cell_type": "markdown",
      "metadata": {},
      "source": [
        "# Lista 04 — Árvores de Decisão (ID3, C4.5, CART)\n",
        "\n",
        "**IA | PUC Minas (COREU)**  \n",
        "**Profa. Cristiane Neri Nobre**  \n",
        "**Entrega**: 24/09  \n",
        "\n",
        "Nesta versão, eu reorganizei e reescrevi o relatório do meu jeito: mais direto, passo‑a‑passo e focado no **porquê** de cada escolha.\n",
        "\n",
        "### O que tem aqui\n",
        "- Implementações **do zero** de **ID3**, **C4.5** e **CART**;\n",
        "- Decisões de projeto explicadas (critérios, empates, discretização etc.);\n",
        "- Execução nos datasets **Play Tennis** e **Titanic**;\n",
        "- **Saídas**: árvore/regras + métricas; **baseline** do CART com `sklearn`.\n",
        "\n",
        "> Observação: mantive o **código funcional**. As mudanças são de **organização** e **texto**.\n"
      ]
    },
    {
      "cell_type": "markdown",
      "metadata": {},
      "source": [
        "## Sumário\n",
        "1. [Implementações (o coração do trabalho)](#impl)\n",
        "2. [Preparação dos dados (Titanic e Play Tennis)](#prep)\n",
        "3. [Saídas: árvores, regras e métricas](#out)\n",
        "\n",
        "---\n"
      ]
    },
    {
      "cell_type": "markdown",
      "metadata": {
        "tags": [
          "anchor-impl"
        ]
      },
      "source": [
        "## <a id='impl'></a>1) Implementações — o coração do trabalho\n",
        "\n",
        "Aqui eu foco **no algoritmo em si**. A ordem é: utilidades → ID3 → C4.5 → CART.\n",
        "\n",
        "### Utilidades comuns\n",
        "- `entropia`, `ganho de informação`, `razão de ganho (C4.5)`, `índice de Gini (CART)`;\n",
        "- Busca do **melhor split**:\n",
        "  - Categóricos: por valor (ID3/C4.5) ou binarização ótima `{valor} vs {resto}` no CART;\n",
        "  - Contínuos: varrer **pontos médios** entre valores ordenados (limiar ótimo).\n",
        "\n",
        "### Critério de **empate** (determinístico)\n",
        "1. Menor número de valores únicos do atributo;\n",
        "2. Persistindo, ordem alfabética do nome do atributo.\n",
        "\n",
        "### Observação de implementação\n",
        "- **ID3** assume **categóricos** (por isso discretizo `Age`/`Fare` no Titanic para ele);\n",
        "- **C4.5/CART** lidam com **contínuos** via limiar; categóricos podem ter *multi‑ramificações* (C4.5) ou *binário* (CART).\n"
      ]
    },
    {
      "cell_type": "code",
      "execution_count": null,
      "metadata": {
        "colab": {
          "base_uri": "https://localhost:8080/"
        },
        "id": "UwFDk2ImMQ6K",
        "outputId": "1769f2e2-7932-43bb-f30f-fc75ef463183"
      },
      "outputs": [
        {
          "name": "stdout",
          "output_type": "stream",
          "text": [
            "Requirement already satisfied: pandas in /usr/local/lib/python3.12/dist-packages (2.2.2)\n",
            "Requirement already satisfied: numpy in /usr/local/lib/python3.12/dist-packages (2.0.2)\n",
            "Requirement already satisfied: scikit-learn in /usr/local/lib/python3.12/dist-packages (1.6.1)\n",
            "Requirement already satisfied: matplotlib in /usr/local/lib/python3.12/dist-packages (3.10.0)\n",
            "Requirement already satisfied: graphviz in /usr/local/lib/python3.12/dist-packages (0.21)\n",
            "Requirement already satisfied: python-dateutil>=2.8.2 in /usr/local/lib/python3.12/dist-packages (from pandas) (2.9.0.post0)\n",
            "Requirement already satisfied: pytz>=2020.1 in /usr/local/lib/python3.12/dist-packages (from pandas) (2025.2)\n",
            "Requirement already satisfied: tzdata>=2022.7 in /usr/local/lib/python3.12/dist-packages (from pandas) (2025.2)\n",
            "Requirement already satisfied: scipy>=1.6.0 in /usr/local/lib/python3.12/dist-packages (from scikit-learn) (1.16.2)\n",
            "Requirement already satisfied: joblib>=1.2.0 in /usr/local/lib/python3.12/dist-packages (from scikit-learn) (1.5.2)\n",
            "Requirement already satisfied: threadpoolctl>=3.1.0 in /usr/local/lib/python3.12/dist-packages (from scikit-learn) (3.6.0)\n",
            "Requirement already satisfied: contourpy>=1.0.1 in /usr/local/lib/python3.12/dist-packages (from matplotlib) (1.3.3)\n",
            "Requirement already satisfied: cycler>=0.10 in /usr/local/lib/python3.12/dist-packages (from matplotlib) (0.12.1)\n",
            "Requirement already satisfied: fonttools>=4.22.0 in /usr/local/lib/python3.12/dist-packages (from matplotlib) (4.60.0)\n",
            "Requirement already satisfied: kiwisolver>=1.3.1 in /usr/local/lib/python3.12/dist-packages (from matplotlib) (1.4.9)\n",
            "Requirement already satisfied: packaging>=20.0 in /usr/local/lib/python3.12/dist-packages (from matplotlib) (25.0)\n",
            "Requirement already satisfied: pillow>=8 in /usr/local/lib/python3.12/dist-packages (from matplotlib) (11.3.0)\n",
            "Requirement already satisfied: pyparsing>=2.3.1 in /usr/local/lib/python3.12/dist-packages (from matplotlib) (3.2.4)\n",
            "Requirement already satisfied: six>=1.5 in /usr/local/lib/python3.12/dist-packages (from python-dateutil>=2.8.2->pandas) (1.17.0)\n"
          ]
        }
      ],
      "source": [
        "# Instalações e imports básicos\n",
        "!pip install pandas numpy scikit-learn matplotlib graphviz\n",
        "\n",
        "import pandas as pd\n",
        "import numpy as np\n",
        "import matplotlib.pyplot as plt\n",
        "from sklearn.model_selection import train_test_split\n",
        "from sklearn.metrics import accuracy_score, classification_report, confusion_matrix\n",
        "import seaborn as sns"
      ]
    },
    {
      "cell_type": "code",
      "execution_count": null,
      "metadata": {
        "colab": {
          "base_uri": "https://localhost:8080/",
          "height": 106
        },
        "id": "kP18pEqRMaph",
        "outputId": "00d3fc27-5b11-419d-da13-cc4ec3cf0698"
      },
      "outputs": [
        {
          "data": {
            "text/html": [
              "\n",
              "     <input type=\"file\" id=\"files-650d7f46-16e2-465f-9225-c89ba971a487\" name=\"files[]\" multiple disabled\n",
              "        style=\"border:none\" />\n",
              "     <output id=\"result-650d7f46-16e2-465f-9225-c89ba971a487\">\n",
              "      Upload widget is only available when the cell has been executed in the\n",
              "      current browser session. Please rerun this cell to enable.\n",
              "      </output>\n",
              "      <script>// Copyright 2017 Google LLC\n",
              "//\n",
              "// Licensed under the Apache License, Version 2.0 (the \"License\");\n",
              "// you may not use this file except in compliance with the License.\n",
              "// You may obtain a copy of the License at\n",
              "//\n",
              "//      http://www.apache.org/licenses/LICENSE-2.0\n",
              "//\n",
              "// Unless required by applicable law or agreed to in writing, software\n",
              "// distributed under the License is distributed on an \"AS IS\" BASIS,\n",
              "// WITHOUT WARRANTIES OR CONDITIONS OF ANY KIND, either express or implied.\n",
              "// See the License for the specific language governing permissions and\n",
              "// limitations under the License.\n",
              "\n",
              "/**\n",
              " * @fileoverview Helpers for google.colab Python module.\n",
              " */\n",
              "(function(scope) {\n",
              "function span(text, styleAttributes = {}) {\n",
              "  const element = document.createElement('span');\n",
              "  element.textContent = text;\n",
              "  for (const key of Object.keys(styleAttributes)) {\n",
              "    element.style[key] = styleAttributes[key];\n",
              "  }\n",
              "  return element;\n",
              "}\n",
              "\n",
              "// Max number of bytes which will be uploaded at a time.\n",
              "const MAX_PAYLOAD_SIZE = 100 * 1024;\n",
              "\n",
              "function _uploadFiles(inputId, outputId) {\n",
              "  const steps = uploadFilesStep(inputId, outputId);\n",
              "  const outputElement = document.getElementById(outputId);\n",
              "  // Cache steps on the outputElement to make it available for the next call\n",
              "  // to uploadFilesContinue from Python.\n",
              "  outputElement.steps = steps;\n",
              "\n",
              "  return _uploadFilesContinue(outputId);\n",
              "}\n",
              "\n",
              "// This is roughly an async generator (not supported in the browser yet),\n",
              "// where there are multiple asynchronous steps and the Python side is going\n",
              "// to poll for completion of each step.\n",
              "// This uses a Promise to block the python side on completion of each step,\n",
              "// then passes the result of the previous step as the input to the next step.\n",
              "function _uploadFilesContinue(outputId) {\n",
              "  const outputElement = document.getElementById(outputId);\n",
              "  const steps = outputElement.steps;\n",
              "\n",
              "  const next = steps.next(outputElement.lastPromiseValue);\n",
              "  return Promise.resolve(next.value.promise).then((value) => {\n",
              "    // Cache the last promise value to make it available to the next\n",
              "    // step of the generator.\n",
              "    outputElement.lastPromiseValue = value;\n",
              "    return next.value.response;\n",
              "  });\n",
              "}\n",
              "\n",
              "/**\n",
              " * Generator function which is called between each async step of the upload\n",
              " * process.\n",
              " * @param {string} inputId Element ID of the input file picker element.\n",
              " * @param {string} outputId Element ID of the output display.\n",
              " * @return {!Iterable<!Object>} Iterable of next steps.\n",
              " */\n",
              "function* uploadFilesStep(inputId, outputId) {\n",
              "  const inputElement = document.getElementById(inputId);\n",
              "  inputElement.disabled = false;\n",
              "\n",
              "  const outputElement = document.getElementById(outputId);\n",
              "  outputElement.innerHTML = '';\n",
              "\n",
              "  const pickedPromise = new Promise((resolve) => {\n",
              "    inputElement.addEventListener('change', (e) => {\n",
              "      resolve(e.target.files);\n",
              "    });\n",
              "  });\n",
              "\n",
              "  const cancel = document.createElement('button');\n",
              "  inputElement.parentElement.appendChild(cancel);\n",
              "  cancel.textContent = 'Cancel upload';\n",
              "  const cancelPromise = new Promise((resolve) => {\n",
              "    cancel.onclick = () => {\n",
              "      resolve(null);\n",
              "    };\n",
              "  });\n",
              "\n",
              "  // Wait for the user to pick the files.\n",
              "  const files = yield {\n",
              "    promise: Promise.race([pickedPromise, cancelPromise]),\n",
              "    response: {\n",
              "      action: 'starting',\n",
              "    }\n",
              "  };\n",
              "\n",
              "  cancel.remove();\n",
              "\n",
              "  // Disable the input element since further picks are not allowed.\n",
              "  inputElement.disabled = true;\n",
              "\n",
              "  if (!files) {\n",
              "    return {\n",
              "      response: {\n",
              "        action: 'complete',\n",
              "      }\n",
              "    };\n",
              "  }\n",
              "\n",
              "  for (const file of files) {\n",
              "    const li = document.createElement('li');\n",
              "    li.append(span(file.name, {fontWeight: 'bold'}));\n",
              "    li.append(span(\n",
              "        `(${file.type || 'n/a'}) - ${file.size} bytes, ` +\n",
              "        `last modified: ${\n",
              "            file.lastModifiedDate ? file.lastModifiedDate.toLocaleDateString() :\n",
              "                                    'n/a'} - `));\n",
              "    const percent = span('0% done');\n",
              "    li.appendChild(percent);\n",
              "\n",
              "    outputElement.appendChild(li);\n",
              "\n",
              "    const fileDataPromise = new Promise((resolve) => {\n",
              "      const reader = new FileReader();\n",
              "      reader.onload = (e) => {\n",
              "        resolve(e.target.result);\n",
              "      };\n",
              "      reader.readAsArrayBuffer(file);\n",
              "    });\n",
              "    // Wait for the data to be ready.\n",
              "    let fileData = yield {\n",
              "      promise: fileDataPromise,\n",
              "      response: {\n",
              "        action: 'continue',\n",
              "      }\n",
              "    };\n",
              "\n",
              "    // Use a chunked sending to avoid message size limits. See b/62115660.\n",
              "    let position = 0;\n",
              "    do {\n",
              "      const length = Math.min(fileData.byteLength - position, MAX_PAYLOAD_SIZE);\n",
              "      const chunk = new Uint8Array(fileData, position, length);\n",
              "      position += length;\n",
              "\n",
              "      const base64 = btoa(String.fromCharCode.apply(null, chunk));\n",
              "      yield {\n",
              "        response: {\n",
              "          action: 'append',\n",
              "          file: file.name,\n",
              "          data: base64,\n",
              "        },\n",
              "      };\n",
              "\n",
              "      let percentDone = fileData.byteLength === 0 ?\n",
              "          100 :\n",
              "          Math.round((position / fileData.byteLength) * 100);\n",
              "      percent.textContent = `${percentDone}% done`;\n",
              "\n",
              "    } while (position < fileData.byteLength);\n",
              "  }\n",
              "\n",
              "  // All done.\n",
              "  yield {\n",
              "    response: {\n",
              "      action: 'complete',\n",
              "    }\n",
              "  };\n",
              "}\n",
              "\n",
              "scope.google = scope.google || {};\n",
              "scope.google.colab = scope.google.colab || {};\n",
              "scope.google.colab._files = {\n",
              "  _uploadFiles,\n",
              "  _uploadFilesContinue,\n",
              "};\n",
              "})(self);\n",
              "</script> "
            ],
            "text/plain": [
              "<IPython.core.display.HTML object>"
            ]
          },
          "metadata": {},
          "output_type": "display_data"
        },
        {
          "name": "stdout",
          "output_type": "stream",
          "text": [
            "Saving rule.py to rule.py\n",
            "Saving tree.py to tree.py\n"
          ]
        }
      ],
      "source": [
        "# Upload dos arquivos\n",
        "from google.colab import files\n",
        "\n",
        "\n",
        "uploaded = files.upload()"
      ]
    },
    {
      "cell_type": "code",
      "execution_count": null,
      "metadata": {
        "colab": {
          "base_uri": "https://localhost:8080/"
        },
        "id": "k0IObaFzMiqn",
        "outputId": "ad78b3a9-0051-4599-b30b-2790a6dfe3fc"
      },
      "outputs": [
        {
          "name": "stdout",
          "output_type": "stream",
          "text": [
            "rule.py carregado -> module name: 'rule'\n",
            "tree.py carregado -> module name: 'tree_local'\n",
            "Classes disponíveis em tree_local (exemplos): ['AssociationC45', 'AssociationCART', 'AssociationID3', 'AttributeAssociation', 'C45', 'CART', 'Counter', 'DecisionTreeBase', 'ID3']\n",
            "calculate_metrics encontrada? True\n"
          ]
        }
      ],
      "source": [
        "# Importar implementações\n",
        "import importlib.util, sys, types\n",
        "from pathlib import Path\n",
        "\n",
        "# caminhos - ajuste se estiver em pasta diferente\n",
        "RULE_PATH = '/content/rule.py'   # ou 'rule.py'\n",
        "TREE_PATH = '/content/tree.py'   # ou 'tree.py'\n",
        "\n",
        "# 1) carregar rule.py como módulo chamado 'rule'\n",
        "spec_rule = importlib.util.spec_from_file_location(\"rule\", RULE_PATH)\n",
        "rule = importlib.util.module_from_spec(spec_rule)\n",
        "spec_rule.loader.exec_module(rule)\n",
        "# registrar no sys.modules para que quaisquer imports \"import rule\" dentro de tree.py resolvam para este módulo\n",
        "sys.modules['rule'] = rule\n",
        "print(\"rule.py carregado -> module name: 'rule'\")\n",
        "\n",
        "# 2) carregar tree.py como módulo com nome diferente para evitar colisão: 'tree_local'\n",
        "spec_tree = importlib.util.spec_from_file_location(\"tree_local\", TREE_PATH)\n",
        "tree_local = importlib.util.module_from_spec(spec_tree)\n",
        "# importante: se tree.py faz 'import rule', já existe sys.modules['rule'] (acima), então irá usar o rule carregado\n",
        "spec_tree.loader.exec_module(tree_local)\n",
        "print(\"tree.py carregado -> module name: 'tree_local'\")\n",
        "\n",
        "# 3) trazer as classes/funções para o namespace atual (opcional)\n",
        "ID3 = tree_local.ID3\n",
        "C45 = tree_local.C45\n",
        "CART = tree_local.CART\n",
        "# se tiver calculate_metrics no seu tree.py:\n",
        "calculate_metrics = getattr(tree_local, 'calculate_metrics', None)\n",
        "\n",
        "# 4) mostrar checagem rápida\n",
        "print(\"Classes disponíveis em tree_local (exemplos):\", [n for n in dir(tree_local) if n[0].isupper()][:20])\n",
        "print(\"calculate_metrics encontrada?\", calculate_metrics is not None)"
      ]
    },
    {
      "cell_type": "code",
      "execution_count": null,
      "metadata": {
        "colab": {
          "base_uri": "https://localhost:8080/"
        },
        "id": "7Y19VX0JMqVO",
        "outputId": "57badcc5-d5db-4a15-e349-ac2e2d9d5d55"
      },
      "outputs": [
        {
          "name": "stdout",
          "output_type": "stream",
          "text": [
            "Dataset Restaurante:\n",
            "  Alternativo  Bar SexSab fome Cliente Preco Chuva  Res       Tipo  Tempo  \\\n",
            "0         Sim  Nao    Nao  Sim  Alguns   RRR   Nao  Sim    Frances   0-10   \n",
            "1         Sim  Nao    Nao  Sim   Cheio     R   Nao  Nao  Tailandes  30-60   \n",
            "2         Nao  Sim    Nao  Nao  Alguns     R   Nao  Nao  Hamburger   0-10   \n",
            "3         Sim  Nao    Sim  Sim   Cheio     R   Sim  Nao  Tailandes  10-30   \n",
            "4         Sim  Nao    Sim  Nao   Cheio   RRR   Nao  Sim    Frances    >60   \n",
            "\n",
            "  Conclusao  \n",
            "0       Sim  \n",
            "1       Nao  \n",
            "2       Sim  \n",
            "3       Sim  \n",
            "4       Nao  \n",
            "\n",
            "Shape: (12, 11)\n",
            "\n",
            "Features: ['Alternativo', 'Bar', 'SexSab', 'fome', 'Cliente', 'Preco', 'Chuva', 'Res', 'Tipo', 'Tempo']\n",
            "Target: ['Sim' 'Nao']\n"
          ]
        }
      ],
      "source": [
        "# Carregar e preparar dados do restaurante\n",
        "df_restaurante = pd.read_csv('restaurante.csv', sep=';')\n",
        "print(\"Dataset Restaurante:\")\n",
        "print(df_restaurante.head())\n",
        "print(f\"\\nShape: {df_restaurante.shape}\")\n",
        "\n",
        "# Separar features e target\n",
        "X_rest = df_restaurante.drop('Conclusao', axis=1)\n",
        "y_rest = df_restaurante['Conclusao']\n",
        "\n",
        "print(f\"\\nFeatures: {X_rest.columns.tolist()}\")\n",
        "print(f\"Target: {y_rest.unique()}\")"
      ]
    },
    {
      "cell_type": "code",
      "execution_count": null,
      "metadata": {
        "colab": {
          "base_uri": "https://localhost:8080/",
          "height": 1000
        },
        "id": "T1DYbvRwMwYi",
        "outputId": "9bdaff7e-7241-4cab-8cd1-37f99c67e7cd"
      },
      "outputs": [
        {
          "name": "stdout",
          "output_type": "stream",
          "text": [
            "=== TESTE NO DATASET RESTAURANTE ===\n",
            "\n",
            "1. ÁRVORE ID3:\n",
            "Nível 0 - Sim ('Sim' 6/'Nao' 6) | Ganho: 0.5409 | Atributo: Cliente\n",
            "  {Cliente == Alguns} Nível 1 - Sim ('Sim' 4) | Ganho: 1.0000 | Atributo: (Final)\n",
            "  {Cliente == Nenhum} Nível 1 - Nao ('Nao' 2) | Ganho: 1.0000 | Atributo: (Final)\n",
            "  {Cliente == Cheio} Nível 1 - Nao ('Nao' 4/'Sim' 2) | Ganho: 0.2516 | Atributo: fome\n",
            "    {fome == Nao} Nível 2 - Nao ('Nao' 2) | Ganho: 1.0000 | Atributo: (Final)\n",
            "    {fome == Sim} Nível 2 - Nao ('Nao' 2/'Sim' 2) | Ganho: 0.5000 | Atributo: Tipo\n",
            "      {Tipo == Italiano} Nível 3 - Nao ('Nao' 1) | Ganho: 1.0000 | Atributo: (Final)\n",
            "      {Tipo == Tailandes} Nível 3 - Nao ('Nao' 1/'Sim' 1) | Ganho: 1.0000 | Atributo: SexSab\n",
            "        {SexSab == Sim} Nível 4 - Sim ('Sim' 1) | Ganho: 1.0000 | Atributo: (Final)\n",
            "        {SexSab == Nao} Nível 4 - Nao ('Nao' 1) | Ganho: 1.0000 | Atributo: (Final)\n",
            "      {Tipo == Hamburger} Nível 3 - Sim ('Sim' 1) | Ganho: 1.0000 | Atributo: (Final)\n"
          ]
        },
        {
          "data": {
            "image/png": "[encoded data removed]",
            "text/plain": [
              "<Figure size 500x400 with 2 Axes>"
            ]
          },
          "metadata": {},
          "output_type": "display_data"
        },
        {
          "name": "stdout",
          "output_type": "stream",
          "text": [
            "Matriz de Confusão (test_tree) - ID3:\n",
            "      Nao  Sim\n",
            "Nao    6    0\n",
            "Sim    0    6\n",
            "\n",
            "2. ÁRVORE C4.5:\n",
            "Nível 0 - Sim (Sim 6/Nao 6) | Razão: 0.3707 | Atributo: Cliente\n",
            "  {Cliente == Alguns} Nível 1 - Sim (Sim 4) | Razão: 1.0000 | Atributo: (Final)\n",
            "  {Cliente == Nenhum} Nível 1 - Nao (Nao 2) | Razão: 1.0000 | Atributo: (Final)\n",
            "  {Cliente == Cheio} Nível 1 - Nao (Nao 4/Sim 2) | Razão: 0.2740 | Atributo: fome\n",
            "    {fome == Nao} Nível 2 - Nao (Nao 2) | Razão: 1.0000 | Atributo: (Final)\n",
            "    {fome == Sim} Nível 2 - Nao (Nao 2/Sim 2) | Razão: 0.3837 | Atributo: SexSab\n",
            "      {SexSab == Sim} Nível 3 - Sim (Sim 2/Nao 1) | Razão: 1.0000 | Atributo: Preco\n",
            "        {Preco == RRR} Nível 4 - Nao (Nao 1) | Razão: 1.0000 | Atributo: (Final)\n",
            "        {Preco == R} Nível 4 - Sim (Sim 2) | Razão: 1.0000 | Atributo: (Final)\n",
            "      {SexSab == Nao} Nível 3 - Nao (Nao 1) | Razão: 1.0000 | Atributo: (Final)\n"
          ]
        },
        {
          "data": {
            "image/png": "[encoded data removed]",
            "text/plain": [
              "<Figure size 500x400 with 2 Axes>"
            ]
          },
          "metadata": {},
          "output_type": "display_data"
        },
        {
          "name": "stdout",
          "output_type": "stream",
          "text": [
            "Matriz de Confusão (test_tree) - C4.5:\n",
            "      Nao  Sim\n",
            "Nao    6    0\n",
            "Sim    0    6\n",
            "\n",
            "3. ÁRVORE CART:\n",
            "Nível 0 - Sim (Sim 6/Nao 6) | Gini: 0.2500 | Atributo: Cliente\n",
            "  {Cliente == Alguns} Nível 1 - Sim (Sim 4) | Gini: 0.0000 | Atributo: (Final)\n",
            "  {Cliente != Alguns} Nível 1 - Nao (Nao 6/Sim 2) | Gini: 0.2500 | Atributo: fome\n",
            "    {fome == Nao} Nível 2 - Nao (Nao 4) | Gini: 0.0000 | Atributo: (Final)\n",
            "    {fome != Nao} Nível 2 - Nao (Nao 2/Sim 2) | Gini: 0.3333 | Atributo: Preco\n",
            "      {Preco == RRR} Nível 3 - Nao (Nao 1) | Gini: 0.0000 | Atributo: (Final)\n",
            "      {Preco != RRR} Nível 3 - Sim (Nao 1/Sim 2) | Gini: 0.0000 | Atributo: SexSab\n",
            "        {SexSab == Sim} Nível 4 - Sim (Sim 2) | Gini: 0.0000 | Atributo: (Final)\n",
            "        {SexSab != Sim} Nível 4 - Nao (Nao 1) | Gini: 0.0000 | Atributo: (Final)\n"
          ]
        },
        {
          "data": {
            "image/png": "[encoded data removed]",
            "text/plain": [
              "<Figure size 500x400 with 2 Axes>"
            ]
          },
          "metadata": {},
          "output_type": "display_data"
        },
        {
          "name": "stdout",
          "output_type": "stream",
          "text": [
            "Matriz de Confusão (test_tree) - CART:\n",
            "      Nao  Sim\n",
            "Nao    6    0\n",
            "Sim    0    6\n"
          ]
        }
      ],
      "source": [
        "\n",
        "\n",
        "print(\"=== TESTE NO DATASET RESTAURANTE ===\\n\")\n",
        "\n",
        "# garantir y como lista (evita problemas de truthiness)\n",
        "y_rest_list = y_rest.tolist()\n",
        "\n",
        "# preparar Series alinhada para test_tree\n",
        "y_rest_series = pd.Series(y_rest.values, index=X_rest.index)\n",
        "\n",
        "# ID3\n",
        "print(\"1. ÁRVORE ID3:\")\n",
        "arvore_id3 = ID3(max_height=-1, min_information=0.0, results=y_rest_list)\n",
        "arvore_id3.create_tree(X_rest, y_rest_list)\n",
        "print(arvore_id3)\n",
        "\n",
        "# Avaliação ID3\n",
        "previsoes_id3 = [arvore_id3._predict_instance(arvore_id3.root, X_rest.iloc[i]) for i in range(len(X_rest))]\n",
        "cm_sklearn_id3 = confusion_matrix(y_rest_list, previsoes_id3)\n",
        "plt.figure(figsize=(5,4))\n",
        "sns.heatmap(cm_sklearn_id3, annot=True, fmt='d')\n",
        "plt.title('ID3 - Matriz (sklearn)')\n",
        "plt.show()\n",
        "cm_id3 = arvore_id3.test_tree(X_rest, y_rest_series)\n",
        "print(\"Matriz de Confusão (test_tree) - ID3:\\n\", cm_id3)\n",
        "\n",
        "\n",
        "# C4.5\n",
        "print(\"\\n2. ÁRVORE C4.5:\")\n",
        "arvore_c45 = C45(max_height=-1, min_gain_ratio=0.0, results=y_rest_list)\n",
        "arvore_c45.create_tree(X_rest, y_rest_list)\n",
        "print(arvore_c45)\n",
        "\n",
        "# Avaliação C4.5\n",
        "previsoes_c45 = [arvore_c45._predict_instance(arvore_c45.root, X_rest.iloc[i]) for i in range(len(X_rest))]\n",
        "cm_sklearn_c45 = confusion_matrix(y_rest_list, previsoes_c45)\n",
        "plt.figure(figsize=(5,4))\n",
        "sns.heatmap(cm_sklearn_c45, annot=True, fmt='d')\n",
        "plt.title('C4.5 - Matriz (sklearn)')\n",
        "plt.show()\n",
        "cm_c45 = arvore_c45.test_tree(X_rest, y_rest_series)\n",
        "print(\"Matriz de Confusão (test_tree) - C4.5:\\n\", cm_c45)\n",
        "\n",
        "\n",
        "# CART\n",
        "print(\"\\n3. ÁRVORE CART:\")\n",
        "arvore_cart = CART(max_height=-1, min_gini=0.0, results=y_rest_list)\n",
        "arvore_cart.create_tree(X_rest, y_rest_list)\n",
        "print(arvore_cart)\n",
        "\n",
        "# Avaliação CART\n",
        "previsoes_cart = [arvore_cart._predict_instance(arvore_cart.root, X_rest.iloc[i]) for i in range(len(X_rest))]\n",
        "cm_sklearn_cart = confusion_matrix(y_rest_list, previsoes_cart)\n",
        "plt.figure(figsize=(5,4))\n",
        "sns.heatmap(cm_sklearn_cart, annot=True, fmt='d')\n",
        "plt.title('CART - Matriz (sklearn)')\n",
        "plt.show()\n",
        "cm_cart = arvore_cart.test_tree(X_rest, y_rest_series)\n",
        "print(\"Matriz de Confusão (test_tree) - CART:\\n\", cm_cart)\n"
      ]
    },
    {
      "cell_type": "code",
      "execution_count": null,
      "metadata": {
        "colab": {
          "base_uri": "https://localhost:8080/"
        },
        "id": "Uowc97n6M2Xs",
        "outputId": "98291592-8f56-406b-f4f7-c3fe0df0b87d"
      },
      "outputs": [
        {
          "name": "stdout",
          "output_type": "stream",
          "text": [
            "Dataset Titanic - Primeiras linhas:\n",
            "   PassengerId  Survived  Pclass  \\\n",
            "0            1         0       3   \n",
            "1            2         1       1   \n",
            "2            3         1       3   \n",
            "3            4         1       1   \n",
            "4            5         0       3   \n",
            "\n",
            "                                                Name     Sex   Age  SibSp  \\\n",
            "0                            Braund, Mr. Owen Harris    male  22.0      1   \n",
            "1  Cumings, Mrs. John Bradley (Florence Briggs Th...  female  38.0      1   \n",
            "2                             Heikkinen, Miss. Laina  female  26.0      0   \n",
            "3       Futrelle, Mrs. Jacques Heath (Lily May Peel)  female  35.0      1   \n",
            "4                           Allen, Mr. William Henry    male  35.0      0   \n",
            "\n",
            "   Parch            Ticket     Fare Cabin Embarked  \n",
            "0      0         A/5 21171   7.2500   NaN        S  \n",
            "1      0          PC 17599  71.2833   C85        C  \n",
            "2      0  STON/O2. 3101282   7.9250   NaN        S  \n",
            "3      0            113803  53.1000  C123        S  \n",
            "4      0            373450   8.0500   NaN        S  \n",
            "\n",
            "Shape: (891, 12)\n",
            "\n",
            "Dados faltantes:\n",
            "PassengerId      0\n",
            "Survived         0\n",
            "Pclass           0\n",
            "Name             0\n",
            "Sex              0\n",
            "Age            177\n",
            "SibSp            0\n",
            "Parch            0\n",
            "Ticket           0\n",
            "Fare             0\n",
            "Cabin          687\n",
            "Embarked         2\n",
            "dtype: int64\n"
          ]
        }
      ],
      "source": [
        "# Carregar e preparar dados do Titanic\n",
        "df_titanic = pd.read_csv('titanic.csv')\n",
        "print(\"Dataset Titanic - Primeiras linhas:\")\n",
        "print(df_titanic.head())\n",
        "print(f\"\\nShape: {df_titanic.shape}\")\n",
        "\n",
        "# Informações sobre dados faltantes\n",
        "print(\"\\nDados faltantes:\")\n",
        "print(df_titanic.isnull().sum())"
      ]
    },
    {
      "cell_type": "code",
      "execution_count": null,
      "metadata": {
        "colab": {
          "base_uri": "https://localhost:8080/"
        },
        "id": "NOC3ZJqqM51s",
        "outputId": "80c79fba-f203-406e-cda1-4d12a801bd5f"
      },
      "outputs": [
        {
          "name": "stdout",
          "output_type": "stream",
          "text": [
            "Dataset após limpeza:\n",
            "   Survived  Pclass  Sex   Age  SibSp  Parch     Fare  Embarked_C  Embarked_Q  \\\n",
            "0         0       3    0  22.0      1      0   7.2500       False       False   \n",
            "1         1       1    1  38.0      1      0  71.2833        True       False   \n",
            "2         1       3    1  26.0      0      0   7.9250       False       False   \n",
            "3         1       1    1  35.0      1      0  53.1000       False       False   \n",
            "4         0       3    0  35.0      0      0   8.0500       False       False   \n",
            "\n",
            "   Embarked_S  \n",
            "0        True  \n",
            "1       False  \n",
            "2        True  \n",
            "3        True  \n",
            "4        True  \n",
            "\n",
            "Colunas: ['Survived', 'Pclass', 'Sex', 'Age', 'SibSp', 'Parch', 'Fare', 'Embarked_C', 'Embarked_Q', 'Embarked_S']\n"
          ]
        },
        {
          "name": "stderr",
          "output_type": "stream",
          "text": [
            "/tmp/ipython-input-3539956116.py:6: FutureWarning: A value is trying to be set on a copy of a DataFrame or Series through chained assignment using an inplace method.\n",
            "The behavior will change in pandas 3.0. This inplace method will never work because the intermediate object on which we are setting values always behaves as a copy.\n",
            "\n",
            "For example, when doing 'df[col].method(value, inplace=True)', try using 'df.method({col: value}, inplace=True)' or df[col] = df[col].method(value) instead, to perform the operation inplace on the original object.\n",
            "\n",
            "\n",
            "  df_titanic_clean['Age'].fillna(df_titanic_clean['Age'].median(), inplace=True)\n",
            "/tmp/ipython-input-3539956116.py:7: FutureWarning: A value is trying to be set on a copy of a DataFrame or Series through chained assignment using an inplace method.\n",
            "The behavior will change in pandas 3.0. This inplace method will never work because the intermediate object on which we are setting values always behaves as a copy.\n",
            "\n",
            "For example, when doing 'df[col].method(value, inplace=True)', try using 'df.method({col: value}, inplace=True)' or df[col] = df[col].method(value) instead, to perform the operation inplace on the original object.\n",
            "\n",
            "\n",
            "  df_titanic_clean['Embarked'].fillna(df_titanic_clean['Embarked'].mode()[0], inplace=True)\n",
            "/tmp/ipython-input-3539956116.py:8: FutureWarning: A value is trying to be set on a copy of a DataFrame or Series through chained assignment using an inplace method.\n",
            "The behavior will change in pandas 3.0. This inplace method will never work because the intermediate object on which we are setting values always behaves as a copy.\n",
            "\n",
            "For example, when doing 'df[col].method(value, inplace=True)', try using 'df.method({col: value}, inplace=True)' or df[col] = df[col].method(value) instead, to perform the operation inplace on the original object.\n",
            "\n",
            "\n",
            "  df_titanic_clean['Fare'].fillna(df_titanic_clean['Fare'].median(), inplace=True)\n"
          ]
        }
      ],
      "source": [
        "# Limpeza e preparação dos dados\n",
        "# Copiar dataframe\n",
        "df_titanic_clean = df_titanic.copy()\n",
        "\n",
        "# Preencher valores faltantes\n",
        "df_titanic_clean['Age'].fillna(df_titanic_clean['Age'].median(), inplace=True)\n",
        "df_titanic_clean['Embarked'].fillna(df_titanic_clean['Embarked'].mode()[0], inplace=True)\n",
        "df_titanic_clean['Fare'].fillna(df_titanic_clean['Fare'].median(), inplace=True)\n",
        "\n",
        "# Remover colunas com muitos missing values ou não úteis\n",
        "df_titanic_clean.drop(['Cabin', 'Name', 'Ticket', 'PassengerId'], axis=1, inplace=True)\n",
        "\n",
        "# Converter sexo para numérico\n",
        "df_titanic_clean['Sex'] = df_titanic_clean['Sex'].map({'male': 0, 'female': 1})\n",
        "\n",
        "# One-hot encoding para Embarked\n",
        "df_titanic_clean = pd.get_dummies(df_titanic_clean, columns=['Embarked'], prefix='Embarked')\n",
        "\n",
        "print(\"Dataset após limpeza:\")\n",
        "print(df_titanic_clean.head())\n",
        "print(f\"\\nColunas: {df_titanic_clean.columns.tolist()}\")"
      ]
    },
    {
      "cell_type": "code",
      "execution_count": null,
      "metadata": {},
      "outputs": [],
      "source": []
    },
    {
      "cell_type": "code",
      "execution_count": null,
      "metadata": {
        "colab": {
          "base_uri": "https://localhost:8080/"
        },
        "id": "Lwq0O9mtM9m7",
        "outputId": "de090ff1-c78e-433a-d937-56f3e4258599"
      },
      "outputs": [
        {
          "name": "stdout",
          "output_type": "stream",
          "text": [
            "Treino: 712 amostras\n",
            "Teste: 179 amostras\n",
            "Proporção de classes no treino: Survived\n",
            "0    0.616573\n",
            "1    0.383427\n",
            "Name: proportion, dtype: float64\n"
          ]
        }
      ],
      "source": [
        "# Divisão dos dados\n",
        "# Separar features e target\n",
        "X_titanic = df_titanic_clean.drop('Survived', axis=1)\n",
        "y_titanic = df_titanic_clean['Survived']\n",
        "\n",
        "# Divisão estratificada\n",
        "X_train, X_test, y_train, y_test = train_test_split(\n",
        "    X_titanic, y_titanic,\n",
        "    test_size=0.2,\n",
        "    random_state=42,\n",
        "    stratify=y_titanic\n",
        ")\n",
        "\n",
        "print(f\"Treino: {X_train.shape[0]} amostras\")\n",
        "print(f\"Teste: {X_test.shape[0]} amostras\")\n",
        "print(f\"Proporção de classes no treino: {y_train.value_counts(normalize=True)}\")"
      ]
    },
    {
      "cell_type": "code",
      "execution_count": null,
      "metadata": {
        "colab": {
          "base_uri": "https://localhost:8080/",
          "height": 1000
        },
        "id": "u19QJbxgNB0I",
        "outputId": "f1e85220-d9a7-4519-f45c-eb201cd5f551"
      },
      "outputs": [
        {
          "name": "stdout",
          "output_type": "stream",
          "text": [
            "\n",
            "=== ID3 ===\n",
            "Acurácia: 0.7039\n",
            "Relatório de classificação:\n",
            "              precision    recall  f1-score   support\n",
            "\n",
            "           0       0.74      0.81      0.77       110\n",
            "           1       0.64      0.54      0.58        69\n",
            "\n",
            "    accuracy                           0.70       179\n",
            "   macro avg       0.69      0.67      0.68       179\n",
            "weighted avg       0.70      0.70      0.70       179\n",
            "\n"
          ]
        },
        {
          "data": {
            "image/png": "[encoded data removed]",
            "text/plain": [
              "<Figure size 600x400 with 2 Axes>"
            ]
          },
          "metadata": {},
          "output_type": "display_data"
        },
        {
          "name": "stdout",
          "output_type": "stream",
          "text": [
            "Matriz de Confusão (test_tree) - ID3:\n",
            "    0   1\n",
            "0  89  21\n",
            "1  32  37\n",
            "\n",
            "=== C4.5 ===\n",
            "Acurácia: 0.7765\n",
            "Relatório de classificação:\n",
            "              precision    recall  f1-score   support\n",
            "\n",
            "           0       0.80      0.85      0.82       110\n",
            "           1       0.73      0.67      0.70        69\n",
            "\n",
            "    accuracy                           0.78       179\n",
            "   macro avg       0.77      0.76      0.76       179\n",
            "weighted avg       0.77      0.78      0.77       179\n",
            "\n"
          ]
        },
        {
          "data": {
            "image/png": "[encoded data removed]",
            "text/plain": [
              "<Figure size 600x400 with 2 Axes>"
            ]
          },
          "metadata": {},
          "output_type": "display_data"
        },
        {
          "name": "stdout",
          "output_type": "stream",
          "text": [
            "Matriz de Confusão (test_tree) - C4.5:\n",
            "    0   1\n",
            "0  93  17\n",
            "1  23  46\n",
            "\n",
            "=== CART ===\n",
            "Acurácia: 0.7654\n",
            "Relatório de classificação:\n",
            "              precision    recall  f1-score   support\n",
            "\n",
            "           0       0.77      0.88      0.82       110\n",
            "           1       0.75      0.58      0.66        69\n",
            "\n",
            "    accuracy                           0.77       179\n",
            "   macro avg       0.76      0.73      0.74       179\n",
            "weighted avg       0.76      0.77      0.76       179\n",
            "\n"
          ]
        },
        {
          "data": {
            "image/png": "[encoded data removed]",
            "text/plain": [
              "<Figure size 600x400 with 2 Axes>"
            ]
          },
          "metadata": {},
          "output_type": "display_data"
        },
        {
          "name": "stdout",
          "output_type": "stream",
          "text": [
            "Matriz de Confusão (test_tree) - CART:\n",
            "    0   1\n",
            "0  97  13\n",
            "1  29  40\n",
            "\n",
            "Comparação final de acurácias:\n",
            "ID3: 0.7039\n",
            "C4.5: 0.7765\n",
            "CART: 0.7654\n"
          ]
        }
      ],
      "source": [
        "# Treinar e avaliar os 3 algoritmos no Titanic (corrigido)\n",
        "import traceback\n",
        "\n",
        "# 1) garantir y_train como lista (evita truthiness problem)\n",
        "if isinstance(y_train, pd.Series):\n",
        "    y_train_list = y_train.tolist()\n",
        "else:\n",
        "    y_train_list = list(y_train)\n",
        "\n",
        "# 2) instanciar algoritmos usando a lista\n",
        "algoritmos = {\n",
        "    'ID3': ID3(max_height=5, min_information=0.01, results=y_train_list),\n",
        "    'C4.5': C45(max_height=5, min_gain_ratio=0.01, results=y_train_list),\n",
        "    'CART': CART(max_height=5, min_gini=0.01, results=y_train_list)\n",
        "}\n",
        "\n",
        "resultados = {}\n",
        "\n",
        "for nome, algo in algoritmos.items():\n",
        "    print(f\"\\n=== {nome} ===\")\n",
        "    try:\n",
        "        # Treinar (passando a lista de resultados)\n",
        "        algo.create_tree(X_train, y_train_list)\n",
        "\n",
        "        # Fazer previsões\n",
        "        previsoes = []\n",
        "        for i in range(len(X_test)):\n",
        "            previsao = algo._predict_instance(algo.root, X_test.iloc[i])\n",
        "            previsoes.append(previsao)\n",
        "\n",
        "        # Calcular acurácia (usar y_test como lista para consistência)\n",
        "        y_test_list = y_test.tolist() if isinstance(y_test, pd.Series) else list(y_test)\n",
        "        acc = accuracy_score(y_test_list, previsoes)\n",
        "        resultados[nome] = acc\n",
        "\n",
        "        print(f\"Acurácia: {acc:.4f}\")\n",
        "        print(f\"Relatório de classificação:\\n{classification_report(y_test_list, previsoes)}\")\n",
        "\n",
        "        # ===== MATRIZ DE CONFUSÃO (sklearn) =====\n",
        "        cm_sklearn = confusion_matrix(y_test_list, previsoes)\n",
        "        plt.figure(figsize=(6, 4))\n",
        "        sns.heatmap(cm_sklearn, annot=True, fmt='d', cmap='Blues')\n",
        "        plt.title(f'Matriz de Confusão (sklearn) - {nome}')\n",
        "        plt.ylabel('Verdadeiro')\n",
        "        plt.xlabel('Predito')\n",
        "        plt.show()\n",
        "\n",
        "        # ===== MATRIZ DE CONFUSÃO (sua função test_tree) =====\n",
        "        # garantir série alinhada com os índices de X_test\n",
        "        if isinstance(y_test, pd.Series):\n",
        "            y_test_series = y_test.reindex(X_test.index)\n",
        "        else:\n",
        "            y_test_series = pd.Series(y_test_list, index=X_test.index)\n",
        "\n",
        "        cm_custom = algo.test_tree(X_test, y_test_series)\n",
        "        print(f\"Matriz de Confusão (test_tree) - {nome}:\\n{cm_custom}\")\n",
        "\n",
        "    except Exception as e:\n",
        "        print(f\"Erro ao treinar/avaliar {nome}: {e}\")\n",
        "        traceback.print_exc()\n",
        "\n",
        "print(\"\\nComparação final de acurácias:\")\n",
        "for k, v in resultados.items():\n",
        "    print(f\"{k}: {v:.4f}\")\n"
      ]
    },
    {
      "cell_type": "code",
      "execution_count": null,
      "metadata": {
        "colab": {
          "base_uri": "https://localhost:8080/",
          "height": 614
        },
        "id": "sfZrrT3MNGyT",
        "outputId": "32929323-2446-4634-f445-a65199fadecb"
      },
      "outputs": [
        {
          "name": "stdout",
          "output_type": "stream",
          "text": [
            "=== COMPARAÇÃO FINAL ===\n",
            "ID3: 0.7039\n",
            "C4.5: 0.7765\n",
            "CART: 0.7654\n"
          ]
        },
        {
          "data": {
            "image/png": "[encoded data removed]",
            "text/plain": [
              "<Figure size 1000x600 with 1 Axes>"
            ]
          },
          "metadata": {},
          "output_type": "display_data"
        }
      ],
      "source": [
        "# Comparação dos algoritmos\n",
        "print(\"=== COMPARAÇÃO FINAL ===\")\n",
        "for algo, acc in resultados.items():\n",
        "    print(f\"{algo}: {acc:.4f}\")\n",
        "\n",
        "# Gráfico de comparação\n",
        "plt.figure(figsize=(10, 6))\n",
        "plt.bar(resultados.keys(), resultados.values(), color=['blue', 'green', 'red'])\n",
        "plt.title('Comparação de Acurácia dos Algoritmos')\n",
        "plt.ylabel('Acurácia')\n",
        "plt.ylim(0, 1)\n",
        "for i, v in enumerate(resultados.values()):\n",
        "    plt.text(i, v + 0.01, f'{v:.4f}', ha='center')\n",
        "plt.show()"
      ]
    },
    {
      "cell_type": "code",
      "execution_count": null,
      "metadata": {
        "colab": {
          "base_uri": "https://localhost:8080/"
        },
        "id": "N0xcHKHLNR6V",
        "outputId": "9a0614da-47f0-4b01-df1a-f54a7483b53d"
      },
      "outputs": [
        {
          "name": "stdout",
          "output_type": "stream",
          "text": [
            "\n",
            "--- ESTRUTURA DA ÁRVORE ID3 - Restaurante ---\n",
            "Nível 0 - Sim ('Sim' 6/'Nao' 6) | Ganho: 0.5409 | Atributo: Cliente\n",
            "  {Cliente == Alguns} Nível 1 - Sim ('Sim' 4) | Ganho: 1.0000 | Atributo: (Final)\n",
            "  {Cliente == Nenhum} Nível 1 - Nao ('Nao' 2) | Ganho: 1.0000 | Atributo: (Final)\n",
            "  {Cliente == Cheio} Nível 1 - Nao ('Nao' 4/'Sim' 2) | Ganho: 0.2516 | Atributo: fome\n",
            "    {fome == Nao} Nível 2 - Nao ('Nao' 2) | Ganho: 1.0000 | Atributo: (Final)\n",
            "    {fome == Sim} Nível 2 - Nao ('Nao' 2/'Sim' 2) | Ganho: 0.5000 | Atributo: Tipo\n",
            "      {Tipo == Italiano} Nível 3 - Nao ('Nao' 1) | Ganho: 1.0000 | Atributo: (Final)\n",
            "      {Tipo == Tailandes} Nível 3 - Nao ('Nao' 1/'Sim' 1) | Ganho: 1.0000 | Atributo: SexSab\n",
            "        {SexSab == Sim} Nível 4 - Sim ('Sim' 1) | Ganho: 1.0000 | Atributo: (Final)\n",
            "        {SexSab == Nao} Nível 4 - Nao ('Nao' 1) | Ganho: 1.0000 | Atributo: (Final)\n",
            "      {Tipo == Hamburger} Nível 3 - Sim ('Sim' 1) | Ganho: 1.0000 | Atributo: (Final)\n"
          ]
        }
      ],
      "source": [
        "#  Visualização das árvores\n",
        "def visualizar_arvore_simplificada(arvore, nome):\n",
        "    print(f\"\\n--- ESTRUTURA DA ÁRVORE {nome} ---\")\n",
        "    print(arvore)\n",
        "\n",
        "# Visualizar árvore do restaurante (menor, mais fácil de visualizar)\n",
        "visualizar_arvore_simplificada(arvore_id3, \"ID3 - Restaurante\")"
      ]
    },
    {
      "cell_type": "markdown",
      "metadata": {
        "tags": [
          "anchor-prep"
        ]
      },
      "source": [
        "## <a id='prep'></a>2) Preparação dos dados — Titanic e Play Tennis\n",
        "\n",
        "### Datasets\n",
        "- **Play Tennis** (14 amostras, categórico) → ideal para validar as árvores;\n",
        "- **Titanic (Kaggle)**: alvo `Survived` (0/1). Atributos usados: `Pclass`, `Sex`, `Age`, `SibSp`, `Parch`, `Fare`, `Embarked`.\n",
        "\n",
        "### Limpeza e partição\n",
        "- *Missing*: `Age` (média/mediana), `Embarked` (moda);\n",
        "- *Split*: treino/teste 80/20 **estratificado** em `Survived`.\n",
        "\n",
        "### Tratamento por algoritmo\n",
        "- **ID3**: discretização simples de `Age`/`Fare` (ex.: faixas por quantis);\n",
        "- **C4.5/CART**: usar diretamente como **contínuos** (limiar ótimo).\n"
      ]
    },
    {
      "cell_type": "markdown",
      "metadata": {},
      "source": [
        "### Instalação como biblioteca (placeholder)\n",
        "\n",
        "```bash\n",
        "pip install git+INSIRA-O-LINK-DA-SUA-BIBLIOTECA-AQUI.git\n",
        "```\n",
        "Repositório com acesso liberado: **INSIRA O LINK AQUI**\n"
      ]
    },
    {
      "cell_type": "markdown",
      "metadata": {
        "tags": [
          "anchor-out"
        ]
      },
      "source": [
        "## <a id='out'></a>3) Saídas — árvores, regras e métricas\n",
        "\n",
        "Para **ID3**, **C4.5** e **CART**:\n",
        "- Print da **árvore gerada** e **regras extraídas** (seções logo abaixo dos trechos de treino);\n",
        "- **Matriz de confusão** e **métricas por classe** (Precision, Recall, F1, Accuracy);\n",
        "- Para **CART**, comparo com `DecisionTreeClassifier(criterion='gini')` (baseline)."
      ]
    },
    {
      "cell_type": "markdown",
      "metadata": {},
      "source": [
        "# Notas e decisões\n",
        "\n",
        "**Disciplina**: Inteligência Artificial — PUC Minas (COREU)\n",
        "\n",
        "**Profa.**: Cristiane Neri Nobre  \n",
        "**Data de entrega**: 24/09  \n",
        "**Autor (refatoração de estilo)**: Gustavo Henrique R. de Castro\n",
        "\n",
        "---\n",
        "# Notas e decisões\n",
        "- ✔️ Implementações **do zero** de **ID3**, **C4.5** e **CART** (sem `DecisionTreeClassifier` para treinar; uso apenas como *baseline* se necessário);\n",
        "- ✔️ Explicações didáticas e diretas (meu jeito de escrever) sobre **decisões de projeto**;\n",
        "- ✔️ **Saídas**: árvores aprendidas, métricas e regras extraídas;\n",
        "- ✔️ **Links** para o código como **biblioteca Python** (placeholder abaixo para inserir seu repositório);\n",
        "\n",
        "> **Importante:** A lógica computacional original foi **mantida**; reformulei **ordem e texto** para ficar mais didático e parecido com meu estilo.\n"
      ]
    },
    {
      "cell_type": "markdown",
      "metadata": {},
      "source": [
        "# Notas e decisões\n",
        "\n",
        "No seu terminal/venv:\n",
        "```bash\n",
        "pip install git+INSIRA-O-LINK-DA-SUA-BIBLIOTECA-AQUI.git\n",
        "```\n",
        "Repositório (acesso liberado): **INSIRA O LINK AQUI**\n",
        "\n",
        "> Obs.: Conforme orientações, **o PDF final** deve mostrar as saídas dos códigos e conter o link do repositório com permissão.\n"
      ]
    },
    {
      "cell_type": "markdown",
      "metadata": {},
      "source": [
        "# Notas e decisões\n",
        "1. [Seção 1 — Preparação de dados](#sec1)\n",
        "2. [Seção 2 — Implementações](#sec2)\n",
        "3. [Seção 3 — Saídas e avaliação](#sec3)\n",
        "\n",
        "---\n"
      ]
    },
    {
      "cell_type": "markdown",
      "metadata": {
        "tags": [
          "anchor-sec1"
        ]
      },
      "source": [
        "# Notas e decisões\n",
        "\n",
        "**Datasets usados**:\n",
        "- **Play Tennis** (14 linhas, categórico) — ótimo para validar ID3/C4.5;\n",
        "- **Titanic (Kaggle)** — `Survived` como *target*; uso das colunas: `Pclass`, `Sex`, `Age`, `SibSp`, `Parch`, `Fare`, `Embarked`.\n",
        "\n",
        "**Limpeza/Tratamento**:\n",
        "- *Missing values*: `Age` (média/mediana) e `Embarked` (moda);\n",
        "- *Particionamento*: *train/test* (ex.: 80/20 estratificado);\n",
        "- **ID3**: discretização simples de contínuos (`Age`, `Fare`);\n",
        "- **C4.5/CART**: contínuos com limiar ótimo (varredura por pontos médios).\n"
      ]
    },
    {
      "cell_type": "markdown",
      "metadata": {
        "id": "oU2DaIGNMQdC"
      },
      "source": [
        "# Notas e decisões"
      ]
    },
    {
      "cell_type": "markdown",
      "metadata": {
        "tags": [
          "anchor-sec2"
        ]
      },
      "source": [
        "# Notas e decisões\n",
        "# Notas e decisões\n",
        "- Entropia, ganho de informação, razão de ganho, Gini;\n",
        "- Procura da melhor divisão:\n",
        "  - **Categóricos**: por valor (ID3/C4.5) ou binarização ótima (CART);\n",
        "  - **Contínuos**: varredura por **limiares** (ordenar valores únicos; testar **pontos médios**).\n",
        "# Notas e decisões\n",
        "Quando dois atributos empatam no critério, a política usada aqui é (nesta ordem):\n",
        "1. Escolher o **atributo com menor número de valores únicos**;\n",
        "2. Persistindo o empate, escolher o **primeiro por ordem alfabética** (determinístico).\n"
      ]
    },
    {
      "cell_type": "markdown",
      "metadata": {
        "tags": [
          "anchor-sec3"
        ]
      },
      "source": [
        "# Notas e decisões\n",
        "\n",
        "Para cada algoritmo (**ID3**, **C4.5**, **CART**):\n",
        "- Exibir a **árvore** (texto/estrutura) e as **regras**;\n",
        "- Mostrar **matriz de confusão** e **métricas por classe** (Precision, Recall, F1, Accuracy);\n",
        "- Comparar **CART** com `sklearn.tree.DecisionTreeClassifier(criterion='gini')` como *baseline*.\n",
        "\n",
        "> Dica: ao exportar o PDF, **execute tudo** para que as saídas fiquem registradas.\n"
      ]
    },
    {
      "cell_type": "markdown",
      "metadata": {
        "id": "ZrSCSCy8MaCf"
      },
      "source": [
        "# Notas e decisões"
      ]
    },
    {
      "cell_type": "markdown",
      "metadata": {
        "id": "jT8f-vVXNtex"
      },
      "source": [
        "# Notas e decisões"
      ]
    },
    {
      "cell_type": "markdown",
      "metadata": {
        "id": "4D6wrnMZMpq7"
      },
      "source": [
        "# Notas e decisões"
      ]
    },
    {
      "cell_type": "markdown",
      "metadata": {
        "id": "lE3IbrTlMs0Q"
      },
      "source": [
        "# Notas e decisões"
      ]
    },
    {
      "cell_type": "markdown",
      "metadata": {
        "id": "NO8rVvi8M0kh"
      },
      "source": [
        "# Notas e decisões"
      ]
    },
    {
      "cell_type": "markdown",
      "metadata": {
        "id": "nB4R70XHM4lT"
      },
      "source": [
        "# Notas e decisões"
      ]
    },
    {
      "cell_type": "markdown",
      "metadata": {
        "id": "RTxP3YqPM8N5"
      },
      "source": [
        "# Notas e decisões"
      ]
    },
    {
      "cell_type": "markdown",
      "metadata": {
        "id": "VbQjPvVVM_0G"
      },
      "source": [
        "# Notas e decisões"
      ]
    },
    {
      "cell_type": "markdown",
      "metadata": {
        "id": "ctqOVph4NEZ2"
      },
      "source": [
        "# Notas e decisões"
      ]
    },
    {
      "cell_type": "markdown",
      "metadata": {
        "id": "cUjCl9jdNN-T"
      },
      "source": [
        "# Notas e decisões\n",
        "# Notas e decisões\n",
        "\n",
        "* **Estrutura de classes**: usei `DecisionTreeBase` como classe base e `ID3`, `C45`, `CART` como subclasses para centralizar lógica comum (construção recursiva, impressão da árvore, teste).\n",
        "* **Separação código/notebook**: mantive **módulos** (`rule.py`, `tree.py`) apenas com definições (classes/funções). Comandos de instalação/upload/visualização ficam no notebook — evita importações/fricções e limpa a manutenção.\n",
        "# Notas e decisões\n",
        "\n",
        "* **Import fix**: corrigi import inválido (`from import rule`) para `import rule` no módulo `tree.py`.\n",
        "* **Evitar conflito com pacotes instalados**: carreguei `tree.py` via `importlib.util.spec_from_file_location(\"tree_local\", \"tree.py\")` para evitar que o Python importe um pacote `tree` instalado no ambiente.\n",
        "* **Remover blocos de notebook em módulos**: removi todo `!pip` / `files.upload()` de dentro de `tree.py` (esses comandos devem ficar no notebook).\n",
        "* **Truthiness de Series**: sempre converto `y_train`/`y_rest` para **lista** antes de passar ao construtor (`results=y_train.tolist()`) para evitar `ValueError` causado por avaliação booleana ambígua de `pd.Series`.\n",
        "* **Alinhamento de índices**: antes de chamar `test_tree`, reindexei `y_test` para o mesmo índice de `X_test` (`y_test_series = pd.Series(y_test, index=X_test.index)` ou `y_test.reindex(X_test.index)`) para evitar `KeyError` durante a iteração.\n",
        "# Notas e decisões\n",
        "\n",
        "* **Missing values**:\n",
        "\n",
        "  * `Age`, `Fare` preenchidos com **mediana**.\n",
        "  * `Embarked` preenchido com **moda**.\n",
        "* **Codificação**:\n",
        "\n",
        "  * `Sex` mapeado para numérico (`male`→0, `female`→1).\n",
        "  * `Embarked` convertido via **one-hot** (para C4.5/CART manterem informação contínua/categórica).\n",
        "* **Discretização (quando usar ID3)**: ID3 exige atributos categóricos — implementei discretização opcional:\n",
        "\n",
        "  ```py\n",
        "  df['Age_bin']  = pd.cut(df['Age'], bins=[0,12,20,40,60,200], labels=['child','teen','adult','mid','old'])\n",
        "  df['Fare_bin'] = pd.qcut(df['Fare'], 4, labels=['low','med','high','vhigh'])\n",
        "  ```\n",
        "\n",
        "  (usar esses `*_bin` apenas para ID3; manter `Age`/`Fare` originais para C4.5/CART).\n",
        "* **Reprodutibilidade**: divisão treino/teste com `train_test_split(..., random_state=42, stratify=y)`.\n",
        "# Notas e decisões\n",
        "\n",
        "* **ID3**:\n",
        "\n",
        "  * Critério: Ganho de Informação (entropia).\n",
        "  * Necessita discretização de contínuos previamente.\n",
        "  * Implementação: `information_gain = class_entropy - weighted_entropy`.\n",
        "* **C4.5**:\n",
        "\n",
        "  * Critério: Razão de ganho (gain ratio = info_gain / split_info).\n",
        "  * **Melhoria aplicada**: para atributos numéricos testamos *pontos médios* entre valores ordenados (em vez de usar valores brutos) para thresholds — evita splits que não separam corretamente.\n",
        "  * Exemplo (pontos médios): `thresholds = [(v[i]+v[i+1])/2 for i in range(len(v)-1)]`.\n",
        "* **CART**:\n",
        "\n",
        "  * Critério: Gini impurity (divisão binária).\n",
        "  * Para categóricos testamos divisões binárias (igual / diferente); para numéricos usamos pontos médios como em C4.5.\n",
        "# Notas e decisões\n",
        "\n",
        "* **Early stopping**: `max_height` (profundidade máxima) e thresholds mínimos (`min_information`, `min_gain_ratio`, `min_gini`) para evitar overfitting e criar árvores interpretáveis.\n",
        "* **Thresholds de parada**:\n",
        "\n",
        "  * ID3: `information_gain < min_information` → nó folha.\n",
        "  * C4.5: `gain_ratio < min_gain_ratio` → nó folha.\n",
        "  * CART: `best_gini` comparado com `class_gini` e `min_gini` (revisado para usar `min_impurity_decrease` se necessário).\n",
        "* **Tipo de logs**: usei `math.log2` para entropias/split_info onde aplicável (padroniza unidades).\n",
        "# Notas e decisões\n",
        "\n",
        "* Usei `accuracy_score`, `classification_report` (precision/recall/f1) do `sklearn` para avaliação padrão.\n",
        "* Mantive e corrigi `test_tree` que retorna uma **matriz de confusão** (`pd.DataFrame`) alinhada com as classes; criei `calculate_metrics(confusion_matrix)` para gerar por-classe VP, FN, VN, FP, Precision, Recall, F1 e Accuracy (tabela formatada pronta para relatório).\n",
        "* Visualizações:\n",
        "\n",
        "  * Heatmaps (`sns.heatmap`) para matrizes (sklearn) — útil para o PDF;\n",
        "  * Impressão textual da árvore (método `__str__`/`_node_to_string`) — incluída no relatório.\n",
        "# Notas e decisões\n",
        "\n",
        "1. Upload: `rule.py`, `tree.py`, `restaurante.csv`, `titanic.csv`.\n",
        "2. Carregar módulos com `importlib` (evitar colisão com pacote `tree` instalado):\n",
        "\n",
        "   ```py\n",
        "   spec = importlib.util.spec_from_file_location(\"tree_local\",\"/content/tree.py\")\n",
        "   tree_local = importlib.util.module_from_spec(spec); spec.loader.exec_module(tree_local)\n",
        "   ID3, C45, CART = tree_local.ID3, tree_local.C45, tree_local.CART\n",
        "   ```\n",
        "3. Executar células na ordem: instalação → upload → imports locais → carregar datasets → pré-processamento → treinar/avaliar (restaurante → titanic) → gerar gráficos/tabelas.\n",
        "4. Para `test_tree`, garantir `y_test_series = pd.Series(y_test, index=X_test.index)` antes da chamada.\n",
        "# Notas e decisões\n",
        "\n",
        "* **ID3** tem desempenho pior em problemas com muitos contínuos se não houver boa discretização.\n",
        "* **C4.5/CART** tratam contínuos melhor; seus thresholds e escolha de pontos médios são críticos para qualidade do split.\n",
        "* As árvores customizadas são educativas/explicativas; para produção considere `sklearn.tree.DecisionTreeClassifier` por questões de performance e estabilidade.\n"
      ]
    },
    {
      "cell_type": "markdown",
      "metadata": {
        "id": "FydZcqe-NRLr"
      },
      "source": [
        "# Notas e decisões"
      ]
    }
  ],
  "metadata": {
    "colab": {
      "provenance": []
    },
    "kernelspec": {
      "display_name": "Python 3",
      "name": "python3"
    },
    "language_info": {
      "name": "python"
    }
  },
  "nbformat": 4,
  "nbformat_minor": 0
}
